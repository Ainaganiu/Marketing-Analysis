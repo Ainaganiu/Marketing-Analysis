{
 "cells": [
  {
   "cell_type": "markdown",
   "metadata": {
    "deletable": false,
    "editable": false,
    "nbgrader": {
     "cell_type": "markdown",
     "checksum": "dbfbd7504a877d497b8a46b890458532",
     "grade": false,
     "grade_id": "cell-b9ff64857b31ed0a",
     "locked": true,
     "schema_version": 3,
     "solution": false,
     "task": false
    }
   },
   "source": [
    "# Lab: Functions\n",
    "\n",
    "In this lab we will go over:\n",
    "\n",
    "- Help functions\n",
    "- String functions\n",
    "- Math functions\n",
    "- Writing functions"
   ]
  },
  {
   "cell_type": "markdown",
   "metadata": {
    "deletable": false,
    "editable": false,
    "nbgrader": {
     "cell_type": "markdown",
     "checksum": "246e402c12a2e49b54382b3764ce98a4",
     "grade": false,
     "grade_id": "cell-5b5ee44356aed1de",
     "locked": true,
     "schema_version": 3,
     "solution": false,
     "task": false
    }
   },
   "source": [
    "#### Question 1: Help Me, Jupyter, You're My Only Hope\n",
    "\n",
    "Try using the `help()` function. An example is provided below. Replace `sum` with a couple of other built in functions."
   ]
  },
  {
   "cell_type": "code",
   "execution_count": null,
   "metadata": {},
   "outputs": [],
   "source": [
    "help(sum)"
   ]
  },
  {
   "cell_type": "markdown",
   "metadata": {
    "deletable": false,
    "editable": false,
    "nbgrader": {
     "cell_type": "markdown",
     "checksum": "3437960103ed3b9e209ed208b89f5518",
     "grade": false,
     "grade_id": "cell-01a88691d3ba6d90",
     "locked": true,
     "schema_version": 3,
     "solution": false,
     "task": false
    }
   },
   "source": [
    "#### Question 2: Tokenizer\n",
    "\n",
    "Use the `Split()` function to seperate the following text into a `list` of individual words. Assign the output to the variable `words`."
   ]
  },
  {
   "cell_type": "code",
   "execution_count": null,
   "metadata": {
    "deletable": false,
    "nbgrader": {
     "cell_type": "code",
     "checksum": "b6cef1fc9c4dbe88696b8841471faff9",
     "grade": false,
     "grade_id": "cell-969415462442da83",
     "locked": false,
     "schema_version": 3,
     "solution": true,
     "task": false
    }
   },
   "outputs": [],
   "source": [
    "text = \"We’ll always have Paris. We didn’t have, we, we lost it until you came to Casablanca.\"\n",
    "# your code here\n",
    "\n",
    "words"
   ]
  },
  {
   "cell_type": "code",
   "execution_count": null,
   "metadata": {
    "deletable": false,
    "editable": false,
    "nbgrader": {
     "cell_type": "code",
     "checksum": "a9e3e4993347fe46bcd1ec9a7c70330f",
     "grade": true,
     "grade_id": "cell-f45c8cc8c15d26fb",
     "locked": true,
     "points": 4,
     "schema_version": 3,
     "solution": false,
     "task": false
    }
   },
   "outputs": [],
   "source": [
    "# Q2 Test Cases\n",
    "assert len(words) == 16"
   ]
  },
  {
   "cell_type": "markdown",
   "metadata": {
    "deletable": false,
    "editable": false,
    "nbgrader": {
     "cell_type": "markdown",
     "checksum": "90c1d34ac71ba83fa754d6486fef42ce",
     "grade": false,
     "grade_id": "cell-202f721410603eb4",
     "locked": true,
     "schema_version": 3,
     "solution": false,
     "task": false
    }
   },
   "source": [
    "#### Question 3: Upper East Side\n",
    "\n",
    "Use the `upper` function to convert the following sentence into all uppercase characters. Assign the output to the variable `upper_sent`."
   ]
  },
  {
   "cell_type": "code",
   "execution_count": null,
   "metadata": {
    "deletable": false,
    "nbgrader": {
     "cell_type": "code",
     "checksum": "6ecd65e66cec8b20e0ba331c9fc6a364",
     "grade": false,
     "grade_id": "cell-81fac5d3c12a1219",
     "locked": false,
     "schema_version": 3,
     "solution": true,
     "task": false
    }
   },
   "outputs": [],
   "source": [
    "sentence = 'a martini shaken not stirred'\n",
    "# your code here\n",
    "\n",
    "upper_sent"
   ]
  },
  {
   "cell_type": "code",
   "execution_count": null,
   "metadata": {
    "deletable": false,
    "editable": false,
    "nbgrader": {
     "cell_type": "code",
     "checksum": "040a4d92477ec705321338acb8163ad0",
     "grade": true,
     "grade_id": "cell-bf5690ad798770c2",
     "locked": true,
     "points": 4,
     "schema_version": 3,
     "solution": false,
     "task": false
    }
   },
   "outputs": [],
   "source": [
    "# Q3 Test Cases\n",
    "assert len(upper_sent) == 28"
   ]
  },
  {
   "cell_type": "markdown",
   "metadata": {
    "deletable": false,
    "editable": false,
    "nbgrader": {
     "cell_type": "markdown",
     "checksum": "13eeafa55c37eb99f960206d0baf8b3a",
     "grade": false,
     "grade_id": "cell-b42f4b7c5af12c43",
     "locked": true,
     "schema_version": 3,
     "solution": false,
     "task": false
    }
   },
   "source": [
    "#### Question 4: Smallest Number I\n",
    "\n",
    "Use the `Min()` function to find the smallest number from the following `list` of numbers. Assign the output to the variable `min_list`."
   ]
  },
  {
   "cell_type": "code",
   "execution_count": null,
   "metadata": {
    "deletable": false,
    "nbgrader": {
     "cell_type": "code",
     "checksum": "98b178a217570f5f9b2724c56672b51d",
     "grade": false,
     "grade_id": "cell-abc06e86240c9514",
     "locked": false,
     "schema_version": 3,
     "solution": true,
     "task": false
    }
   },
   "outputs": [],
   "source": [
    "num_lst = [91.94, 40.37, 70.55, -89.28, 58.77,\n",
    "           -37.47, -74.64, 85.49, 6.21, 5.55]\n",
    "# your code here\n",
    "\n",
    "min_list"
   ]
  },
  {
   "cell_type": "code",
   "execution_count": null,
   "metadata": {
    "deletable": false,
    "editable": false,
    "nbgrader": {
     "cell_type": "code",
     "checksum": "7424c0f12451f4afc1ad7ac897ef972c",
     "grade": true,
     "grade_id": "cell-9f349f38e230be86",
     "locked": true,
     "points": 4,
     "schema_version": 3,
     "solution": false,
     "task": false
    }
   },
   "outputs": [],
   "source": [
    "# Q4 Test Cases\n",
    "assert type(min_list) == float"
   ]
  },
  {
   "cell_type": "markdown",
   "metadata": {
    "deletable": false,
    "editable": false,
    "nbgrader": {
     "cell_type": "markdown",
     "checksum": "d47fe92e92a89645d492449e6c8806de",
     "grade": false,
     "grade_id": "cell-d143dcc30fedd0ab",
     "locked": true,
     "schema_version": 3,
     "solution": false,
     "task": false
    }
   },
   "source": [
    "#### Question 5: Smallest Number II\n",
    "\n",
    "Write the function `minimum` that finds the smallest number of a list. DO NOT use any built in functions."
   ]
  },
  {
   "cell_type": "code",
   "execution_count": null,
   "metadata": {
    "deletable": false,
    "nbgrader": {
     "cell_type": "code",
     "checksum": "df1796078b5130580ec76bf46b1dd86a",
     "grade": false,
     "grade_id": "cell-25cc10e14cf31404",
     "locked": false,
     "schema_version": 3,
     "solution": true,
     "task": false
    }
   },
   "outputs": [],
   "source": [
    "def minimum(lst):\n",
    "    # your code here\n",
    "    "
   ]
  },
  {
   "cell_type": "code",
   "execution_count": null,
   "metadata": {
    "deletable": false,
    "editable": false,
    "nbgrader": {
     "cell_type": "code",
     "checksum": "1fff1cb4745614bec9c6cb9739bc9eac",
     "grade": true,
     "grade_id": "cell-4991b01021403e5b",
     "locked": true,
     "points": 4,
     "schema_version": 3,
     "solution": false,
     "task": false
    }
   },
   "outputs": [],
   "source": [
    "# Q5 Test Cases\n",
    "assert minimum([0, 1, 2]) == 0"
   ]
  },
  {
   "cell_type": "markdown",
   "metadata": {
    "deletable": false,
    "editable": false,
    "nbgrader": {
     "cell_type": "markdown",
     "checksum": "24a3ad765aa6bb60a3d721c6c05a92ea",
     "grade": false,
     "grade_id": "cell-c0050f3540bdb16c",
     "locked": true,
     "schema_version": 3,
     "solution": false,
     "task": false
    }
   },
   "source": [
    "#### Question 6: Averages Assemble\n",
    "\n",
    "Write the function `average` that finds the average of a list using a for loop. DO NOT use any built in functions. Remember the average is the sum of all the numbers in a list divided by the total number of items in the list."
   ]
  },
  {
   "cell_type": "code",
   "execution_count": null,
   "metadata": {
    "deletable": false,
    "nbgrader": {
     "cell_type": "code",
     "checksum": "af327f3079656a496c898798e65a1a68",
     "grade": false,
     "grade_id": "cell-b36eb5b8515677cc",
     "locked": false,
     "schema_version": 3,
     "solution": true,
     "task": false
    }
   },
   "outputs": [],
   "source": [
    "def average(lst):\n",
    "    # your code here\n",
    "    "
   ]
  },
  {
   "cell_type": "code",
   "execution_count": null,
   "metadata": {
    "deletable": false,
    "editable": false,
    "nbgrader": {
     "cell_type": "code",
     "checksum": "e8cb7ec41237f7f36d7357cf246e1582",
     "grade": true,
     "grade_id": "cell-d4f3bdc3cb80038f",
     "locked": true,
     "points": 4,
     "schema_version": 3,
     "solution": false,
     "task": false
    }
   },
   "outputs": [],
   "source": [
    "# Q6 Test Cases\n",
    "assert average([-1, 0, 1]) == 0"
   ]
  },
  {
   "cell_type": "markdown",
   "metadata": {
    "deletable": false,
    "editable": false,
    "nbgrader": {
     "cell_type": "markdown",
     "checksum": "b13ef9319f87cf7e05f61ba1b3dc4299",
     "grade": false,
     "grade_id": "cell-d43ee820843b3f2f",
     "locked": true,
     "schema_version": 3,
     "solution": false,
     "task": false
    }
   },
   "source": [
    "#### Question 7: Even\n",
    "\n",
    "Write a function `even_numbers` that uses a for loop and outputs a list that contains all the even numbers from $n_1$ inclusive up to $n_2$ exclusive."
   ]
  },
  {
   "cell_type": "code",
   "execution_count": null,
   "metadata": {
    "deletable": false,
    "nbgrader": {
     "cell_type": "code",
     "checksum": "17da7eaa8ddb7568a5a6f04520072042",
     "grade": false,
     "grade_id": "cell-0bc5bde282a3d8e8",
     "locked": false,
     "schema_version": 3,
     "solution": true,
     "task": false
    }
   },
   "outputs": [],
   "source": [
    "def even_numbers(n1, n2):\n",
    "    # your code here\n",
    "    "
   ]
  },
  {
   "cell_type": "code",
   "execution_count": null,
   "metadata": {
    "deletable": false,
    "editable": false,
    "nbgrader": {
     "cell_type": "code",
     "checksum": "6daa0a7a43a9fa8a1b1fd1ca44e4a395",
     "grade": true,
     "grade_id": "cell-44f1ceff001d4534",
     "locked": true,
     "points": 4,
     "schema_version": 3,
     "solution": false,
     "task": false
    }
   },
   "outputs": [],
   "source": [
    "# Q6 Test Cases\n",
    "assert even_numbers(-2, 4) == [-2, 0, 2]"
   ]
  }
 ],
 "metadata": {
  "kernelspec": {
   "display_name": "Python 3",
   "language": "python",
   "name": "python3"
  },
  "language_info": {
   "codemirror_mode": {
    "name": "ipython",
    "version": 3
   },
   "file_extension": ".py",
   "mimetype": "text/x-python",
   "name": "python",
   "nbconvert_exporter": "python",
   "pygments_lexer": "ipython3",
   "version": "3.7.6"
  }
 },
 "nbformat": 4,
 "nbformat_minor": 5
}
