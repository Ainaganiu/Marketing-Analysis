{
 "cells": [
  {
   "cell_type": "markdown",
   "metadata": {
    "deletable": false,
    "editable": false,
    "nbgrader": {
     "cell_type": "markdown",
     "checksum": "5017bc807a74032c3485d06e37fb2b22",
     "grade": false,
     "grade_id": "cell-8ffd98ff51da8dd5",
     "locked": true,
     "schema_version": 3,
     "solution": false,
     "task": false
    }
   },
   "source": [
    "# Part III: Explore\n",
    "\n",
    "![alt text](data/inu_neko_logo_small.png \"Inu + Neko\")\n",
    "\n",
    "Hello! We are Inu + Neku and we are a Dog & Cat services and supplies store located in New York City. We just started our e-commerce business and need your help analyzing our data!"
   ]
  },
  {
   "cell_type": "markdown",
   "metadata": {
    "deletable": false,
    "editable": false,
    "nbgrader": {
     "cell_type": "markdown",
     "checksum": "b7d79e28b99e73c12c777a31721b638a",
     "grade": false,
     "grade_id": "cell-843890ae04b6d8b8",
     "locked": true,
     "schema_version": 3,
     "solution": false,
     "task": false
    }
   },
   "source": [
    "## Description\n",
    "\n",
    "We need to make sure the data is clean before starting your analysis. As a reminder, we should check for:\n",
    "\n",
    "- Duplicate records\n",
    "- Consistent formatting\n",
    "- Missing values\n",
    "- Obviously wrong values\n",
    "\n",
    "> **NOTE:** You can check if your answer is at least close to the correct/expected answer with the check functions (`q1_check()`, `q2_check()`, ...). These functions will check your answer and give you some feedback. However, your answer might be _incorrect_ even if the check functions says you're \"close\" to the expected answer."
   ]
  },
  {
   "cell_type": "code",
   "execution_count": 1,
   "metadata": {
    "deletable": false,
    "editable": false,
    "nbgrader": {
     "cell_type": "code",
     "checksum": "d16cb700998d92f0d9884047d3652f3b",
     "grade": false,
     "grade_id": "cell-beb161b036c44177",
     "locked": true,
     "schema_version": 3,
     "solution": false,
     "task": false
    }
   },
   "outputs": [
    {
     "ename": "ModuleNotFoundError",
     "evalue": "No module named 'checker'",
     "output_type": "error",
     "traceback": [
      "\u001b[0;31m---------------------------------------------------------------------------\u001b[0m",
      "\u001b[0;31mModuleNotFoundError\u001b[0m                       Traceback (most recent call last)",
      "\u001b[0;32m<ipython-input-1-47d799583d52>\u001b[0m in \u001b[0;36m<module>\u001b[0;34m\u001b[0m\n\u001b[1;32m      3\u001b[0m \u001b[0;34m\u001b[0m\u001b[0m\n\u001b[1;32m      4\u001b[0m \u001b[0;34m\u001b[0m\u001b[0m\n\u001b[0;32m----> 5\u001b[0;31m \u001b[0;32mfrom\u001b[0m \u001b[0mchecker\u001b[0m\u001b[0;34m.\u001b[0m\u001b[0mbinder\u001b[0m \u001b[0;32mimport\u001b[0m \u001b[0mbinder\u001b[0m\u001b[0;34m;\u001b[0m \u001b[0mbinder\u001b[0m\u001b[0;34m.\u001b[0m\u001b[0mbind\u001b[0m\u001b[0;34m(\u001b[0m\u001b[0mglobals\u001b[0m\u001b[0;34m(\u001b[0m\u001b[0;34m)\u001b[0m\u001b[0;34m)\u001b[0m\u001b[0;34m\u001b[0m\u001b[0;34m\u001b[0m\u001b[0m\n\u001b[0m\u001b[1;32m      6\u001b[0m \u001b[0;32mfrom\u001b[0m \u001b[0mintro_data_analytics\u001b[0m\u001b[0;34m.\u001b[0m\u001b[0mcheck_practice_explore\u001b[0m \u001b[0;32mimport\u001b[0m \u001b[0;34m*\u001b[0m\u001b[0;34m\u001b[0m\u001b[0;34m\u001b[0m\u001b[0m\n",
      "\u001b[0;31mModuleNotFoundError\u001b[0m: No module named 'checker'"
     ]
    }
   ],
   "source": [
    "import pandas as pd\n",
    "import numpy as np\n",
    "\n",
    "\n",
    "from checker.binder import binder; binder.bind(globals())\n",
    "from intro_data_analytics.check_practice_explore import *"
   ]
  },
  {
   "cell_type": "code",
   "execution_count": null,
   "metadata": {
    "deletable": false,
    "editable": false,
    "nbgrader": {
     "cell_type": "code",
     "checksum": "6cea42d8305a102ac6bd31d89f9c55be",
     "grade": false,
     "grade_id": "cell-1316036195ef2947",
     "locked": true,
     "schema_version": 3,
     "solution": false,
     "task": false
    }
   },
   "outputs": [],
   "source": [
    "df_cleaned = pd.read_csv('data/inu_neko_orderline_cleaned.csv')\n",
    "df_cleaned"
   ]
  },
  {
   "cell_type": "code",
   "execution_count": null,
   "metadata": {
    "deletable": false,
    "editable": false,
    "nbgrader": {
     "cell_type": "code",
     "checksum": "8e1377c8abf545c005cd78319345cb60",
     "grade": false,
     "grade_id": "cell-1f7c217b9f5dc484",
     "locked": true,
     "schema_version": 3,
     "solution": false,
     "task": false
    }
   },
   "outputs": [],
   "source": [
    "df_cleaned.info()"
   ]
  },
  {
   "cell_type": "markdown",
   "metadata": {
    "deletable": false,
    "editable": false,
    "nbgrader": {
     "cell_type": "markdown",
     "checksum": "1aac8941682150799dafa2841164e72a",
     "grade": false,
     "grade_id": "cell-5b21e0995de9f072",
     "locked": true,
     "schema_version": 3,
     "solution": false,
     "task": false
    }
   },
   "source": [
    "#### Question 1: Number of Orders\n",
    "\n",
    "How many transactions are there?"
   ]
  },
  {
   "cell_type": "code",
   "execution_count": null,
   "metadata": {
    "deletable": false,
    "nbgrader": {
     "cell_type": "code",
     "checksum": "1e49d3c5cac3d037448048d7c6db0253",
     "grade": false,
     "grade_id": "cell-976c898e7f2b44c4",
     "locked": false,
     "schema_version": 3,
     "solution": true,
     "task": false
    }
   },
   "outputs": [],
   "source": [
    "# your code here\n",
    "\n",
    "# num_trans = "
   ]
  },
  {
   "cell_type": "code",
   "execution_count": null,
   "metadata": {
    "deletable": false,
    "editable": false,
    "nbgrader": {
     "cell_type": "code",
     "checksum": "2bb1ddbba2425359aef42c01f99802d6",
     "grade": true,
     "grade_id": "cell-25ca64f53b142f34",
     "locked": true,
     "points": 4,
     "schema_version": 3,
     "solution": false,
     "task": false
    }
   },
   "outputs": [],
   "source": [
    "# Q1 Test Cases\n",
    "check_q1()\n"
   ]
  },
  {
   "cell_type": "markdown",
   "metadata": {
    "deletable": false,
    "editable": false,
    "nbgrader": {
     "cell_type": "markdown",
     "checksum": "dbbcb9e840f3b9c342c881a835e5f0c1",
     "grade": false,
     "grade_id": "cell-0a31f9747863940e",
     "locked": true,
     "schema_version": 3,
     "solution": false,
     "task": false
    }
   },
   "source": [
    "#### Question 2: Alpha and Omega I\n",
    "What was the month and day of the first sale? Store as a tuple in that order and assign the tuple to the variable `first_date`."
   ]
  },
  {
   "cell_type": "code",
   "execution_count": null,
   "metadata": {
    "deletable": false,
    "nbgrader": {
     "cell_type": "code",
     "checksum": "8a71800126e46e93b74701632148768f",
     "grade": false,
     "grade_id": "cell-bd2b89a8035a9ab8",
     "locked": false,
     "schema_version": 3,
     "solution": true,
     "task": false
    }
   },
   "outputs": [],
   "source": [
    "# your code here\n",
    "\n",
    "# first_date = "
   ]
  },
  {
   "cell_type": "code",
   "execution_count": null,
   "metadata": {
    "deletable": false,
    "editable": false,
    "nbgrader": {
     "cell_type": "code",
     "checksum": "ec9d1f104cd4d0dfc5f3084bece10717",
     "grade": true,
     "grade_id": "cell-8a2534037c10eb71",
     "locked": true,
     "points": 4,
     "schema_version": 3,
     "solution": false,
     "task": false
    }
   },
   "outputs": [],
   "source": [
    "# Q2 Test Cases\n",
    "check_q2()\n"
   ]
  },
  {
   "cell_type": "markdown",
   "metadata": {
    "deletable": false,
    "editable": false,
    "nbgrader": {
     "cell_type": "markdown",
     "checksum": "d5331e475d8ab74da24d0ac3b0240606",
     "grade": false,
     "grade_id": "cell-d0395f0fe97ea8c1",
     "locked": true,
     "schema_version": 3,
     "solution": false,
     "task": false
    }
   },
   "source": [
    "#### Question 3: Alpha and Omega II\n",
    "What was the month and day of the last sale? Store as a tuple in that order and assign the tuple to the variable `last_date`."
   ]
  },
  {
   "cell_type": "code",
   "execution_count": null,
   "metadata": {
    "deletable": false,
    "nbgrader": {
     "cell_type": "code",
     "checksum": "5d90ab248efee42d93d2491d9644b0ed",
     "grade": false,
     "grade_id": "cell-a6304e08d438b5d0",
     "locked": false,
     "schema_version": 3,
     "solution": true,
     "task": false
    }
   },
   "outputs": [],
   "source": [
    "# your code here\n",
    "\n",
    "# last_date ="
   ]
  },
  {
   "cell_type": "code",
   "execution_count": null,
   "metadata": {
    "deletable": false,
    "editable": false,
    "nbgrader": {
     "cell_type": "code",
     "checksum": "da0e39d0d2869ec7bccdc888371ccd8f",
     "grade": true,
     "grade_id": "cell-5ef9e6fb442b7a99",
     "locked": true,
     "points": 4,
     "schema_version": 3,
     "solution": false,
     "task": false
    }
   },
   "outputs": [],
   "source": [
    "# Q3 Test Cases\n",
    "check_q3()\n"
   ]
  },
  {
   "cell_type": "markdown",
   "metadata": {
    "deletable": false,
    "editable": false,
    "nbgrader": {
     "cell_type": "markdown",
     "checksum": "2fdfb3d2f058f2d45689c7a3c23e1768",
     "grade": false,
     "grade_id": "cell-38fa66cb1c9a3d31",
     "locked": true,
     "schema_version": 3,
     "solution": false,
     "task": false
    }
   },
   "source": [
    "#### Question 4: Cats vs Dogs\n",
    "\n",
    "Which animal product type is most popular?"
   ]
  },
  {
   "cell_type": "code",
   "execution_count": null,
   "metadata": {
    "deletable": false,
    "nbgrader": {
     "cell_type": "code",
     "checksum": "0cd9ca757a5a1966d1b5b2b92369fe9b",
     "grade": false,
     "grade_id": "cell-10183753169be5e8",
     "locked": false,
     "schema_version": 3,
     "solution": true,
     "task": false
    }
   },
   "outputs": [],
   "source": [
    "# your code here\n",
    "\n",
    "# most_pop ="
   ]
  },
  {
   "cell_type": "code",
   "execution_count": null,
   "metadata": {
    "deletable": false,
    "editable": false,
    "nbgrader": {
     "cell_type": "code",
     "checksum": "8aa559b0ab871210a9d3b33ffd389d63",
     "grade": true,
     "grade_id": "cell-996a95ebb5eec26f",
     "locked": true,
     "points": 4,
     "schema_version": 3,
     "solution": false,
     "task": false
    }
   },
   "outputs": [],
   "source": [
    "# Q4 Test Cases\n",
    "check_q4()\n"
   ]
  },
  {
   "cell_type": "markdown",
   "metadata": {
    "deletable": false,
    "editable": false,
    "nbgrader": {
     "cell_type": "markdown",
     "checksum": "f8f1268778dcc9eaaa89a102cc7e5e4a",
     "grade": false,
     "grade_id": "cell-b81c4a8a616a491e",
     "locked": true,
     "schema_version": 3,
     "solution": false,
     "task": false
    }
   },
   "source": [
    "#### Question 5: More Money More Problems I\n",
    "\n",
    "What was the total dollar amount made in the month of January? Store this in the variable `jan_rev`."
   ]
  },
  {
   "cell_type": "code",
   "execution_count": null,
   "metadata": {
    "deletable": false,
    "nbgrader": {
     "cell_type": "code",
     "checksum": "9220262fb20238c54559bcc2261cb8fe",
     "grade": false,
     "grade_id": "cell-c51d5edcf4fe931c",
     "locked": false,
     "schema_version": 3,
     "solution": true,
     "task": false
    }
   },
   "outputs": [],
   "source": [
    "# your code here\n",
    "\n",
    "# jan_rev = "
   ]
  },
  {
   "cell_type": "code",
   "execution_count": null,
   "metadata": {
    "deletable": false,
    "editable": false,
    "nbgrader": {
     "cell_type": "code",
     "checksum": "6caf0a0dfe5ac9a514143fb24dff6649",
     "grade": true,
     "grade_id": "cell-9a89e109181bc6b0",
     "locked": true,
     "points": 4,
     "schema_version": 3,
     "solution": false,
     "task": false
    }
   },
   "outputs": [],
   "source": [
    "# Q5 Test Cases\n",
    "check_q5()\n"
   ]
  },
  {
   "cell_type": "markdown",
   "metadata": {
    "deletable": false,
    "editable": false,
    "nbgrader": {
     "cell_type": "markdown",
     "checksum": "822817b931b79e30509e79c06e42f7b5",
     "grade": false,
     "grade_id": "cell-0205547589da160c",
     "locked": true,
     "schema_version": 3,
     "solution": false,
     "task": false
    }
   },
   "source": [
    "#### Question 6: More Money More Problems II\n",
    "\n",
    "What was the total dollar amount made in the month of May? Store this in the variable `may_rev`."
   ]
  },
  {
   "cell_type": "code",
   "execution_count": null,
   "metadata": {
    "deletable": false,
    "nbgrader": {
     "cell_type": "code",
     "checksum": "cfad7deca49b2b37948df067c64f2e00",
     "grade": false,
     "grade_id": "cell-0f1521ee38985bdd",
     "locked": false,
     "schema_version": 3,
     "solution": true,
     "task": false
    }
   },
   "outputs": [],
   "source": [
    "# your code here\n",
    "\n",
    "# may_rev = "
   ]
  },
  {
   "cell_type": "code",
   "execution_count": null,
   "metadata": {
    "deletable": false,
    "editable": false,
    "nbgrader": {
     "cell_type": "code",
     "checksum": "9e5c350bacdb6a1059d5738f7749501f",
     "grade": true,
     "grade_id": "cell-5ac7a212f71fe758",
     "locked": true,
     "points": 4,
     "schema_version": 3,
     "solution": false,
     "task": false
    }
   },
   "outputs": [],
   "source": [
    "# Q6 Test Cases\n",
    "check_q6()\n"
   ]
  },
  {
   "cell_type": "markdown",
   "metadata": {
    "deletable": false,
    "editable": false,
    "nbgrader": {
     "cell_type": "markdown",
     "checksum": "a6644bd2e3d854d604d0f1794e630905",
     "grade": false,
     "grade_id": "cell-b428aa728b3bae2b",
     "locked": true,
     "schema_version": 3,
     "solution": false,
     "task": false
    }
   },
   "source": [
    "#### Question 7: Transaction Size\n",
    "\n",
    "What is the average number of items bought in each transaction? Sore this in the variable `avg_num_items`."
   ]
  },
  {
   "cell_type": "code",
   "execution_count": null,
   "metadata": {
    "deletable": false,
    "nbgrader": {
     "cell_type": "code",
     "checksum": "6d735cea5b5d75e522b9deb40990c6c5",
     "grade": false,
     "grade_id": "cell-aeccee5f203a3f64",
     "locked": false,
     "schema_version": 3,
     "solution": true,
     "task": false
    }
   },
   "outputs": [],
   "source": [
    "# your code here\n",
    "\n",
    "# avg_num_items = "
   ]
  },
  {
   "cell_type": "code",
   "execution_count": null,
   "metadata": {
    "deletable": false,
    "editable": false,
    "nbgrader": {
     "cell_type": "code",
     "checksum": "ace3d886a0b500a140a950943faee152",
     "grade": true,
     "grade_id": "cell-9107bb862558578a",
     "locked": true,
     "points": 4,
     "schema_version": 3,
     "solution": false,
     "task": false
    }
   },
   "outputs": [],
   "source": [
    "# Q7 Test Cases\n",
    "check_q7()\n"
   ]
  },
  {
   "cell_type": "markdown",
   "metadata": {
    "deletable": false,
    "editable": false,
    "nbgrader": {
     "cell_type": "markdown",
     "checksum": "b3aed85121f261dd1dbf51da71047120",
     "grade": false,
     "grade_id": "cell-510e9f8b6f0680cf",
     "locked": true,
     "schema_version": 3,
     "solution": false,
     "task": false
    }
   },
   "source": [
    "#### Question 8: Best Products I\n",
    "\n",
    "What are the top ten product titles by the total number of items sold for that product? Display in descending order. Store in variable `top_num_sales`."
   ]
  },
  {
   "cell_type": "code",
   "execution_count": null,
   "metadata": {
    "deletable": false,
    "nbgrader": {
     "cell_type": "code",
     "checksum": "d40ca2d91b3e4cb57c835ffbb869c6ea",
     "grade": false,
     "grade_id": "cell-6ebd3fdb04804030",
     "locked": false,
     "schema_version": 3,
     "solution": true,
     "task": false
    }
   },
   "outputs": [],
   "source": [
    "# your code here\n",
    "\n",
    "# top_num_sales ="
   ]
  },
  {
   "cell_type": "code",
   "execution_count": null,
   "metadata": {
    "deletable": false,
    "editable": false,
    "nbgrader": {
     "cell_type": "code",
     "checksum": "b5f5d11d4e41283559c6a2086d6802cd",
     "grade": true,
     "grade_id": "cell-5cd99f7a3013a125",
     "locked": true,
     "points": 4,
     "schema_version": 3,
     "solution": false,
     "task": false
    }
   },
   "outputs": [],
   "source": [
    "# Q8 Test Cases\n",
    "check_q8()\n"
   ]
  },
  {
   "cell_type": "markdown",
   "metadata": {
    "deletable": false,
    "editable": false,
    "nbgrader": {
     "cell_type": "markdown",
     "checksum": "2663e149b4ad9dc2feb65e12a0c3fafe",
     "grade": false,
     "grade_id": "cell-2d2d9e58a275f46a",
     "locked": true,
     "schema_version": 3,
     "solution": false,
     "task": false
    }
   },
   "source": [
    "#### Question 9: Best Products II\n",
    "\n",
    "What are the top ten product titles by total dollar amount made? Display in descending order. Store in variable `top_tot_sales`."
   ]
  },
  {
   "cell_type": "code",
   "execution_count": null,
   "metadata": {
    "deletable": false,
    "nbgrader": {
     "cell_type": "code",
     "checksum": "8b1da5d09de0ebc65b8edef47ad4d102",
     "grade": false,
     "grade_id": "cell-18c6a06ec971a5d9",
     "locked": false,
     "schema_version": 3,
     "solution": true,
     "task": false
    }
   },
   "outputs": [],
   "source": [
    "# your code here\n",
    "\n",
    "# top_tot_sales = "
   ]
  },
  {
   "cell_type": "code",
   "execution_count": null,
   "metadata": {
    "deletable": false,
    "editable": false,
    "nbgrader": {
     "cell_type": "code",
     "checksum": "b0b4e415e4c0d01e8c6682e005b64940",
     "grade": true,
     "grade_id": "cell-9a381e47ff024ad4",
     "locked": true,
     "points": 4,
     "schema_version": 3,
     "solution": false,
     "task": false
    }
   },
   "outputs": [],
   "source": [
    "# Q9 Test Cases\n",
    "check_q9()\n"
   ]
  },
  {
   "cell_type": "markdown",
   "metadata": {
    "deletable": false,
    "editable": false,
    "nbgrader": {
     "cell_type": "markdown",
     "checksum": "6babd904d5868a596700e49218b392f0",
     "grade": false,
     "grade_id": "cell-3589d6f6028b7289",
     "locked": true,
     "schema_version": 3,
     "solution": false,
     "task": false
    }
   },
   "source": [
    "#### Question 10: Bonus\n",
    "\n",
    "What is the proportion of returning customers? Store as variable `prop_returning`."
   ]
  },
  {
   "cell_type": "code",
   "execution_count": null,
   "metadata": {
    "deletable": false,
    "nbgrader": {
     "cell_type": "code",
     "checksum": "a7790e810581fab55b1ee90f12a4f01b",
     "grade": false,
     "grade_id": "cell-59c5307f420fe231",
     "locked": false,
     "schema_version": 3,
     "solution": true,
     "task": false
    }
   },
   "outputs": [],
   "source": [
    "# your code here\n",
    "\n",
    "# prop_returning = "
   ]
  },
  {
   "cell_type": "code",
   "execution_count": null,
   "metadata": {
    "deletable": false,
    "editable": false,
    "nbgrader": {
     "cell_type": "code",
     "checksum": "e963efe28c40268902a7c20c6cbd5132",
     "grade": true,
     "grade_id": "cell-84d62b95c61208f4",
     "locked": true,
     "points": 0,
     "schema_version": 3,
     "solution": false,
     "task": false
    }
   },
   "outputs": [],
   "source": [
    "# Q10 Test Cases\n",
    "check_q10()\n"
   ]
  }
 ],
 "metadata": {
  "kernelspec": {
   "display_name": "Python 3",
   "language": "python",
   "name": "python3"
  },
  "language_info": {
   "codemirror_mode": {
    "name": "ipython",
    "version": 3
   },
   "file_extension": ".py",
   "mimetype": "text/x-python",
   "name": "python",
   "nbconvert_exporter": "python",
   "pygments_lexer": "ipython3",
   "version": "3.7.6"
  }
 },
 "nbformat": 4,
 "nbformat_minor": 5
}
