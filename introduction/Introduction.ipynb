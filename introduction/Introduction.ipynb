{
 "cells": [
  {
   "cell_type": "markdown",
   "metadata": {
    "deletable": false,
    "editable": false,
    "nbgrader": {
     "cell_type": "markdown",
     "checksum": "94d2abb836c9edd56068d4ae53e95e70",
     "grade": false,
     "grade_id": "cell-4909b29b64a72286",
     "locked": true,
     "schema_version": 3,
     "solution": false,
     "task": false
    }
   },
   "source": [
    "# Lab: Intro to Jupyter and Python\n",
    "\n",
    "In this lab we will go over:\n",
    "\n",
    "- Navigating jupyter notebooks\n",
    "- Types (e.g. str, int, float, bool, NoneType)\n",
    "- Operators\n",
    "- Variables\n",
    "- Data Structures"
   ]
  },
  {
   "cell_type": "markdown",
   "metadata": {
    "deletable": false,
    "editable": false,
    "nbgrader": {
     "cell_type": "markdown",
     "checksum": "331130e5be0c8c075b08d0237fbb3ba6",
     "grade": false,
     "grade_id": "cell-d00cb67317a36efd",
     "locked": true,
     "schema_version": 3,
     "solution": false,
     "task": false
    }
   },
   "source": [
    "#### Question 1: And So It Begins\n",
    "\n",
    "Bellow is your first code cell. Try running it by clicking on the cell and then the `Run` button above.\n",
    "\n",
    "Alternatively you can also use the hotkeys `shift` + `enter`. \n"
   ]
  },
  {
   "cell_type": "code",
   "execution_count": null,
   "metadata": {
    "deletable": false,
    "editable": false,
    "nbgrader": {
     "cell_type": "code",
     "checksum": "bf83243e4a24ed42cf762c797e2cc4c7",
     "grade": false,
     "grade_id": "cell-4719768cf0751dfb",
     "locked": true,
     "schema_version": 3,
     "solution": false,
     "task": false
    }
   },
   "outputs": [],
   "source": [
    "\"Hello world.\""
   ]
  },
  {
   "cell_type": "markdown",
   "metadata": {
    "deletable": false,
    "editable": false,
    "nbgrader": {
     "cell_type": "markdown",
     "checksum": "ce62ac72d865c121c21cc9c1bc7c2ccd",
     "grade": false,
     "grade_id": "cell-dc9c8c3d380207d8",
     "locked": true,
     "schema_version": 3,
     "solution": false,
     "task": false
    }
   },
   "source": [
    "Try running this next cell."
   ]
  },
  {
   "cell_type": "code",
   "execution_count": null,
   "metadata": {
    "deletable": false,
    "editable": false,
    "nbgrader": {
     "cell_type": "code",
     "checksum": "340070e784642e56e950b6764c3a2ca9",
     "grade": false,
     "grade_id": "cell-dfad8559540116bf",
     "locked": true,
     "schema_version": 3,
     "solution": false,
     "task": false
    }
   },
   "outputs": [],
   "source": [
    "# This is a comment. \n",
    "# Python will never evaluate comments.\n",
    "1\n",
    "2"
   ]
  },
  {
   "cell_type": "markdown",
   "metadata": {
    "deletable": false,
    "editable": false,
    "nbgrader": {
     "cell_type": "markdown",
     "checksum": "40ed76bc8765ec5b4c96d7d6a35be623",
     "grade": false,
     "grade_id": "cell-5afdf8ddd46bd0c4",
     "locked": true,
     "schema_version": 3,
     "solution": false,
     "task": false
    }
   },
   "source": [
    "Notice how only the 2 is in the output. If you wanted to display multiple things from a cell, try using the `print()` function."
   ]
  },
  {
   "cell_type": "code",
   "execution_count": null,
   "metadata": {
    "deletable": false,
    "editable": false,
    "nbgrader": {
     "cell_type": "code",
     "checksum": "f560e1602a2db22f7772ed392475f37d",
     "grade": false,
     "grade_id": "cell-f15192e6d223864c",
     "locked": true,
     "schema_version": 3,
     "solution": false,
     "task": false
    }
   },
   "outputs": [],
   "source": [
    "# Everything prints.\n",
    "print(1)\n",
    "print(2)"
   ]
  },
  {
   "cell_type": "markdown",
   "metadata": {
    "deletable": false,
    "editable": false,
    "nbgrader": {
     "cell_type": "markdown",
     "checksum": "5a48ba2e4c41beb835eecf8165ce8409",
     "grade": false,
     "grade_id": "cell-a786a68e94949d05",
     "locked": true,
     "schema_version": 3,
     "solution": false,
     "task": false
    }
   },
   "source": [
    "#### Question 2: Basic Types\n",
    "\n",
    "Here's a refresher on some of the basic types in python. We've provided two examples of each. Run the cells below."
   ]
  },
  {
   "cell_type": "code",
   "execution_count": null,
   "metadata": {
    "deletable": false,
    "editable": false,
    "nbgrader": {
     "cell_type": "code",
     "checksum": "612d42d2f3eea866570f8705f25dc48d",
     "grade": false,
     "grade_id": "cell-96f8c8c8e9374c5f",
     "locked": true,
     "schema_version": 3,
     "solution": false,
     "task": false
    }
   },
   "outputs": [],
   "source": [
    "\"Hello\""
   ]
  },
  {
   "cell_type": "code",
   "execution_count": null,
   "metadata": {
    "deletable": false,
    "editable": false,
    "nbgrader": {
     "cell_type": "code",
     "checksum": "677672931d7c583366644e6e7cc8917b",
     "grade": false,
     "grade_id": "cell-87a867f80321878f",
     "locked": true,
     "schema_version": 3,
     "solution": false,
     "task": false
    }
   },
   "outputs": [],
   "source": [
    "# You can see the type of a value by using type()\n",
    "type('world')"
   ]
  },
  {
   "cell_type": "code",
   "execution_count": null,
   "metadata": {
    "deletable": false,
    "editable": false,
    "nbgrader": {
     "cell_type": "code",
     "checksum": "57364172324e52997dc27746755c77f9",
     "grade": false,
     "grade_id": "cell-062bc00c0756d7a1",
     "locked": true,
     "schema_version": 3,
     "solution": false,
     "task": false
    }
   },
   "outputs": [],
   "source": [
    "0"
   ]
  },
  {
   "cell_type": "code",
   "execution_count": null,
   "metadata": {
    "deletable": false,
    "editable": false,
    "nbgrader": {
     "cell_type": "code",
     "checksum": "ab94c64c8eecc686774250c3e23ea5b6",
     "grade": false,
     "grade_id": "cell-e95fd7203deec8ee",
     "locked": true,
     "schema_version": 3,
     "solution": false,
     "task": false
    }
   },
   "outputs": [],
   "source": [
    "type(1)"
   ]
  },
  {
   "cell_type": "code",
   "execution_count": null,
   "metadata": {
    "deletable": false,
    "editable": false,
    "nbgrader": {
     "cell_type": "code",
     "checksum": "09b95a3e2c0ea31ec1f6d5802fce2351",
     "grade": false,
     "grade_id": "cell-905318696aacfcd6",
     "locked": true,
     "schema_version": 3,
     "solution": false,
     "task": false
    }
   },
   "outputs": [],
   "source": [
    "1.0"
   ]
  },
  {
   "cell_type": "code",
   "execution_count": null,
   "metadata": {
    "deletable": false,
    "editable": false,
    "nbgrader": {
     "cell_type": "code",
     "checksum": "3b5fb88525543934213cd6806ea403fb",
     "grade": false,
     "grade_id": "cell-f321d4ca09e3f579",
     "locked": true,
     "schema_version": 3,
     "solution": false,
     "task": false
    }
   },
   "outputs": [],
   "source": [
    "type(3.1415)"
   ]
  },
  {
   "cell_type": "code",
   "execution_count": null,
   "metadata": {
    "deletable": false,
    "editable": false,
    "nbgrader": {
     "cell_type": "code",
     "checksum": "2ba64730c37c71ee90fd5a1d94d70bce",
     "grade": false,
     "grade_id": "cell-d893d963260c4493",
     "locked": true,
     "schema_version": 3,
     "solution": false,
     "task": false
    }
   },
   "outputs": [],
   "source": [
    "True"
   ]
  },
  {
   "cell_type": "code",
   "execution_count": null,
   "metadata": {
    "deletable": false,
    "editable": false,
    "nbgrader": {
     "cell_type": "code",
     "checksum": "63bcc648192e20b8af27e01e4b5d53ed",
     "grade": false,
     "grade_id": "cell-f6568edf59cb10aa",
     "locked": true,
     "schema_version": 3,
     "solution": false,
     "task": false
    }
   },
   "outputs": [],
   "source": [
    "type(False)"
   ]
  },
  {
   "cell_type": "code",
   "execution_count": null,
   "metadata": {
    "deletable": false,
    "editable": false,
    "nbgrader": {
     "cell_type": "code",
     "checksum": "2dd358c08575e5005b40205f49c8015f",
     "grade": false,
     "grade_id": "cell-aa9324e997a76b19",
     "locked": true,
     "schema_version": 3,
     "solution": false,
     "task": false
    }
   },
   "outputs": [],
   "source": [
    "None"
   ]
  },
  {
   "cell_type": "code",
   "execution_count": null,
   "metadata": {
    "deletable": false,
    "editable": false,
    "nbgrader": {
     "cell_type": "code",
     "checksum": "0553141f5181c27bd6ef9ded89e196f7",
     "grade": false,
     "grade_id": "cell-f58a06c9093a8819",
     "locked": true,
     "schema_version": 3,
     "solution": false,
     "task": false
    }
   },
   "outputs": [],
   "source": [
    "type(None)"
   ]
  },
  {
   "cell_type": "markdown",
   "metadata": {
    "deletable": false,
    "editable": false,
    "nbgrader": {
     "cell_type": "markdown",
     "checksum": "3f22dc66923f7f8fbc6358d0b4551af9",
     "grade": false,
     "grade_id": "cell-eed2f879bb1c30c6",
     "locked": true,
     "schema_version": 3,
     "solution": false,
     "task": false
    }
   },
   "source": [
    "#### Question 3: Casting Call\n",
    "\n",
    "We can convert types from one to another. This is called casting. Run the cells below."
   ]
  },
  {
   "cell_type": "code",
   "execution_count": null,
   "metadata": {
    "deletable": false,
    "editable": false,
    "nbgrader": {
     "cell_type": "code",
     "checksum": "3699208095fd15d2fe5f6a33c5ad9af7",
     "grade": false,
     "grade_id": "cell-4cacabd78090bf60",
     "locked": true,
     "schema_version": 3,
     "solution": false,
     "task": false
    }
   },
   "outputs": [],
   "source": [
    "str(1)"
   ]
  },
  {
   "cell_type": "code",
   "execution_count": null,
   "metadata": {
    "deletable": false,
    "editable": false,
    "nbgrader": {
     "cell_type": "code",
     "checksum": "94def22eff7da28a262c3643329fb579",
     "grade": false,
     "grade_id": "cell-d0446c9a8af371b4",
     "locked": true,
     "schema_version": 3,
     "solution": false,
     "task": false
    }
   },
   "outputs": [],
   "source": [
    "str(0.0)"
   ]
  },
  {
   "cell_type": "code",
   "execution_count": null,
   "metadata": {
    "deletable": false,
    "editable": false,
    "nbgrader": {
     "cell_type": "code",
     "checksum": "56698ca500bd59e13c24075e7e98fa46",
     "grade": false,
     "grade_id": "cell-4c351ab03b38a4f3",
     "locked": true,
     "schema_version": 3,
     "solution": false,
     "task": false
    }
   },
   "outputs": [],
   "source": [
    "int('1')"
   ]
  },
  {
   "cell_type": "code",
   "execution_count": null,
   "metadata": {
    "deletable": false,
    "editable": false,
    "nbgrader": {
     "cell_type": "code",
     "checksum": "6fb7b60225ae54514c415cd7bf248dc1",
     "grade": false,
     "grade_id": "cell-79df77f6a3200503",
     "locked": true,
     "schema_version": 3,
     "solution": false,
     "task": false
    }
   },
   "outputs": [],
   "source": [
    "int('2')"
   ]
  },
  {
   "cell_type": "markdown",
   "metadata": {
    "deletable": false,
    "editable": false,
    "nbgrader": {
     "cell_type": "markdown",
     "checksum": "4c52793939ee45a479473446532785c0",
     "grade": false,
     "grade_id": "cell-50248984f62e5b11",
     "locked": true,
     "schema_version": 3,
     "solution": false,
     "task": false
    }
   },
   "source": [
    "Sometimes it doesn't work. For instance, you can't convert characters from the alphabet into an `int`."
   ]
  },
  {
   "cell_type": "code",
   "execution_count": null,
   "metadata": {
    "deletable": false,
    "editable": false,
    "nbgrader": {
     "cell_type": "code",
     "checksum": "ed41c3e3f3c2f2fc5f18f352532531b0",
     "grade": false,
     "grade_id": "cell-8e7b739626578ea6",
     "locked": true,
     "schema_version": 3,
     "solution": false,
     "task": false
    }
   },
   "outputs": [],
   "source": [
    "# Error\n",
    "int('A')"
   ]
  },
  {
   "cell_type": "markdown",
   "metadata": {
    "deletable": false,
    "editable": false,
    "nbgrader": {
     "cell_type": "markdown",
     "checksum": "936195fc55c1b310aa01c5ff2b1be45e",
     "grade": false,
     "grade_id": "cell-1ebae2cbd4c7b423",
     "locked": true,
     "schema_version": 3,
     "solution": false,
     "task": false
    }
   },
   "source": [
    "#### Question 4: Operators\n",
    "In Python we can apply mathematical operators to numbers much like a calculator.\n",
    "- `+` addition\n",
    "- `-` subtraction\n",
    "- `*` multiplication\n",
    "- `**` exponentiation\n",
    "- `/` division\n",
    "\n",
    "We can also use parentheses to group operations together. Mathematical operators are evaluated in PEMDAS order (Parentheses, Exponentiation, Multiplication / Division, Addition / Subtraction).\n",
    "\n",
    "Here are some examples:"
   ]
  },
  {
   "cell_type": "code",
   "execution_count": null,
   "metadata": {
    "deletable": false,
    "editable": false,
    "nbgrader": {
     "cell_type": "code",
     "checksum": "d3846a9b16a944f038087175b85cb9a0",
     "grade": false,
     "grade_id": "cell-7417b4f447655494",
     "locked": true,
     "schema_version": 3,
     "solution": false,
     "task": false
    }
   },
   "outputs": [],
   "source": [
    "2 + 1"
   ]
  },
  {
   "cell_type": "code",
   "execution_count": null,
   "metadata": {
    "deletable": false,
    "editable": false,
    "nbgrader": {
     "cell_type": "code",
     "checksum": "3a3f8f281506b453d2fab2dd808fe7a3",
     "grade": false,
     "grade_id": "cell-48f53da3ff32381c",
     "locked": true,
     "schema_version": 3,
     "solution": false,
     "task": false
    }
   },
   "outputs": [],
   "source": [
    "1 / 3"
   ]
  },
  {
   "cell_type": "markdown",
   "metadata": {
    "deletable": false,
    "editable": false,
    "nbgrader": {
     "cell_type": "markdown",
     "checksum": "6be7e2e3063aba1b6edd83e5d92a2bbb",
     "grade": false,
     "grade_id": "cell-1538f5efcf68049a",
     "locked": true,
     "schema_version": 3,
     "solution": false,
     "task": false
    }
   },
   "source": [
    "We can make it more complicated. Notice how we can combine floats and integers together."
   ]
  },
  {
   "cell_type": "code",
   "execution_count": null,
   "metadata": {
    "deletable": false,
    "editable": false,
    "nbgrader": {
     "cell_type": "code",
     "checksum": "a961cc54f9fc6e225e1b93e90719493e",
     "grade": false,
     "grade_id": "cell-cdc2807f08e3f429",
     "locked": true,
     "schema_version": 3,
     "solution": false,
     "task": false
    }
   },
   "outputs": [],
   "source": [
    "(1 + 1) / 3.14 ** 2"
   ]
  },
  {
   "cell_type": "markdown",
   "metadata": {
    "deletable": false,
    "editable": false,
    "nbgrader": {
     "cell_type": "markdown",
     "checksum": "88fa2c9eb85af643618b99f449dfa2e2",
     "grade": false,
     "grade_id": "cell-379532d4316c9e39",
     "locked": true,
     "schema_version": 3,
     "solution": false,
     "task": false
    }
   },
   "source": [
    "We can also apply some mathematical operators to `str`."
   ]
  },
  {
   "cell_type": "code",
   "execution_count": null,
   "metadata": {
    "deletable": false,
    "editable": false,
    "nbgrader": {
     "cell_type": "code",
     "checksum": "7ce1855db2ff7821de4ace983cb9b6a5",
     "grade": false,
     "grade_id": "cell-4897e842b5bfd9ba",
     "locked": true,
     "schema_version": 3,
     "solution": false,
     "task": false
    }
   },
   "outputs": [],
   "source": [
    "# Concatentation\n",
    "'hello' + ' ' + 'world'"
   ]
  },
  {
   "cell_type": "code",
   "execution_count": null,
   "metadata": {
    "deletable": false,
    "editable": false,
    "nbgrader": {
     "cell_type": "code",
     "checksum": "d5e8e926d4957745e76eb60d8d4731ea",
     "grade": false,
     "grade_id": "cell-6ac565bdaa375986",
     "locked": true,
     "schema_version": 3,
     "solution": false,
     "task": false
    }
   },
   "outputs": [],
   "source": [
    "# Repetition\n",
    "'hello' * 3"
   ]
  },
  {
   "cell_type": "markdown",
   "metadata": {
    "deletable": false,
    "editable": false,
    "nbgrader": {
     "cell_type": "markdown",
     "checksum": "234b5cdbbf44848d7566e37fd738317b",
     "grade": false,
     "grade_id": "cell-819ea4809be05fcb",
     "locked": true,
     "schema_version": 3,
     "solution": false,
     "task": false
    }
   },
   "source": [
    "But not all of them work."
   ]
  },
  {
   "cell_type": "code",
   "execution_count": null,
   "metadata": {
    "deletable": false,
    "editable": false,
    "nbgrader": {
     "cell_type": "code",
     "checksum": "a7b7d994be68e455ca6c05624b0c3a46",
     "grade": false,
     "grade_id": "cell-a296ea7a37942f89",
     "locked": true,
     "schema_version": 3,
     "solution": false,
     "task": false
    }
   },
   "outputs": [],
   "source": [
    "# Error\n",
    "'hello' * 'hello'"
   ]
  },
  {
   "cell_type": "code",
   "execution_count": null,
   "metadata": {
    "deletable": false,
    "editable": false,
    "nbgrader": {
     "cell_type": "code",
     "checksum": "1f8c0f0fbf92cc284e302f86debffb14",
     "grade": false,
     "grade_id": "cell-27b3bdbd40b89772",
     "locked": true,
     "schema_version": 3,
     "solution": false,
     "task": false
    }
   },
   "outputs": [],
   "source": [
    "# Error\n",
    "'hello' / 2"
   ]
  },
  {
   "cell_type": "markdown",
   "metadata": {
    "deletable": false,
    "editable": false,
    "nbgrader": {
     "cell_type": "markdown",
     "checksum": "bcdf514377b173f904574a65853ff1b8",
     "grade": false,
     "grade_id": "cell-8232bba31d552193",
     "locked": true,
     "schema_version": 3,
     "solution": false,
     "task": false
    }
   },
   "source": [
    "#### Question 5: Creating a New Code Cell\n",
    "\n",
    "Try writing your own arithmetic expressions. First create a new code cell. Click on the cell below and navigate to `Insert` -> `Insert Cell Below`.\n",
    "\n",
    "You can also press `esc` and then press `B`. If you are interested in more hotkeys press `esc` and then press `H`. Also, here is a more comprehensive guide on Jupyter Notebook [usage](https://nbviewer.jupyter.org/github/ipython/ipython/blob/3.x/examples/Notebook/Notebook%20Basics.ipynb)."
   ]
  },
  {
   "cell_type": "code",
   "execution_count": null,
   "metadata": {},
   "outputs": [],
   "source": [
    "# Create some new code blocks"
   ]
  },
  {
   "cell_type": "markdown",
   "metadata": {
    "deletable": false,
    "editable": false,
    "nbgrader": {
     "cell_type": "markdown",
     "checksum": "906edcb9e40f053c2b649be5da24d0db",
     "grade": false,
     "grade_id": "cell-52211cca134ed18e",
     "locked": true,
     "schema_version": 3,
     "solution": false,
     "task": false
    }
   },
   "source": [
    "#### Question 6: Variables I\n",
    "\n",
    "Assign the variable `name` to a `str`."
   ]
  },
  {
   "cell_type": "code",
   "execution_count": null,
   "metadata": {
    "deletable": false,
    "nbgrader": {
     "cell_type": "code",
     "checksum": "998ab0600558f727c0d6b95a12879e31",
     "grade": false,
     "grade_id": "cell-138c46f3d39d8a2b",
     "locked": false,
     "schema_version": 3,
     "solution": true,
     "task": false
    }
   },
   "outputs": [],
   "source": [
    "# your code here\n",
    "\n",
    "name"
   ]
  },
  {
   "cell_type": "markdown",
   "metadata": {
    "deletable": false,
    "editable": false,
    "nbgrader": {
     "cell_type": "markdown",
     "checksum": "b183e9f76fa1478aba392db4306a9065",
     "grade": false,
     "grade_id": "cell-aee1457c8c2891c1",
     "locked": true,
     "schema_version": 3,
     "solution": false,
     "task": false
    }
   },
   "source": [
    "Verify that `name` is a `str` using `type()`. "
   ]
  },
  {
   "cell_type": "code",
   "execution_count": null,
   "metadata": {
    "deletable": false,
    "nbgrader": {
     "cell_type": "code",
     "checksum": "3b9a477dbe6c89b82f38c8f8ea15d224",
     "grade": false,
     "grade_id": "cell-10c9edff8f514451",
     "locked": false,
     "schema_version": 3,
     "solution": true,
     "task": false
    }
   },
   "outputs": [],
   "source": [
    "# your code here\n"
   ]
  },
  {
   "cell_type": "markdown",
   "metadata": {
    "deletable": false,
    "editable": false,
    "nbgrader": {
     "cell_type": "markdown",
     "checksum": "832a29cac1afa76297b87f91e1830a96",
     "grade": false,
     "grade_id": "cell-b539f489f1e0eede",
     "locked": true,
     "schema_version": 3,
     "solution": false,
     "task": false
    }
   },
   "source": [
    "The cell bellow contains test cases. Some are visible and some are not. These are used to autograde each coding assignment. Use them as a sanity check. \n",
    "<!--\n",
    "To get full credit all the test cases must pass.\n",
    "-->"
   ]
  },
  {
   "cell_type": "code",
   "execution_count": null,
   "metadata": {
    "deletable": false,
    "editable": false,
    "nbgrader": {
     "cell_type": "code",
     "checksum": "b4de14579ad5bb336a85752e32339844",
     "grade": true,
     "grade_id": "cell-e45aa81bee87e649",
     "locked": true,
     "points": 1,
     "schema_version": 3,
     "solution": false,
     "task": false
    }
   },
   "outputs": [],
   "source": [
    "# Q6 Test Cases\n",
    "assert name is not None"
   ]
  },
  {
   "cell_type": "markdown",
   "metadata": {
    "deletable": false,
    "editable": false,
    "nbgrader": {
     "cell_type": "markdown",
     "checksum": "97cde6388f340eb81503e2541cf17685",
     "grade": false,
     "grade_id": "cell-afa19b65eafe9f24",
     "locked": true,
     "schema_version": 3,
     "solution": false,
     "task": false
    }
   },
   "source": [
    "#### Question 7: Variables II\n",
    "Assign the variable `truth` to a `bool`."
   ]
  },
  {
   "cell_type": "code",
   "execution_count": null,
   "metadata": {
    "deletable": false,
    "nbgrader": {
     "cell_type": "code",
     "checksum": "856166f3d790d6f7437b9aa0f450de34",
     "grade": false,
     "grade_id": "cell-0a93e70eeef58c7e",
     "locked": false,
     "schema_version": 3,
     "solution": true,
     "task": false
    }
   },
   "outputs": [],
   "source": [
    "# your code here\n",
    "\n",
    "truth"
   ]
  },
  {
   "cell_type": "markdown",
   "metadata": {
    "deletable": false,
    "editable": false,
    "nbgrader": {
     "cell_type": "markdown",
     "checksum": "27a47896c12e0359d5be22e44af39ae3",
     "grade": false,
     "grade_id": "cell-3b3296a6638992a7",
     "locked": true,
     "schema_version": 3,
     "solution": false,
     "task": false
    }
   },
   "source": [
    "Verify that `truth` is a `bool` using `type()`"
   ]
  },
  {
   "cell_type": "code",
   "execution_count": null,
   "metadata": {
    "deletable": false,
    "nbgrader": {
     "cell_type": "code",
     "checksum": "232f1e7af0eaec0ef327671c217e1080",
     "grade": false,
     "grade_id": "cell-1f91e533135f0c74",
     "locked": false,
     "schema_version": 3,
     "solution": true,
     "task": false
    }
   },
   "outputs": [],
   "source": [
    "# your code here\n"
   ]
  },
  {
   "cell_type": "code",
   "execution_count": null,
   "metadata": {
    "deletable": false,
    "editable": false,
    "nbgrader": {
     "cell_type": "code",
     "checksum": "04c302f2859cd1e72181ebeadf976602",
     "grade": true,
     "grade_id": "cell-c664f0e8c605e8f4",
     "locked": true,
     "points": 1,
     "schema_version": 3,
     "solution": false,
     "task": false
    }
   },
   "outputs": [],
   "source": [
    "# Q7 Test Cases\n",
    "assert truth is not None"
   ]
  },
  {
   "cell_type": "markdown",
   "metadata": {
    "deletable": false,
    "editable": false,
    "nbgrader": {
     "cell_type": "markdown",
     "checksum": "d3fd7d7a72292a19e60c66940901227d",
     "grade": false,
     "grade_id": "cell-e61d8227f839cb11",
     "locked": true,
     "schema_version": 3,
     "solution": false,
     "task": false
    }
   },
   "source": [
    "#### Question 8: Lists I\n",
    "\n",
    "Create a `list` which contains 4 different colors. Call it `color_list`."
   ]
  },
  {
   "cell_type": "code",
   "execution_count": null,
   "metadata": {
    "deletable": false,
    "nbgrader": {
     "cell_type": "code",
     "checksum": "2e0077cb90cb9fd90a811e989ad6d5b5",
     "grade": false,
     "grade_id": "cell-0ea547a6e7ae282e",
     "locked": false,
     "schema_version": 3,
     "solution": true,
     "task": false
    }
   },
   "outputs": [],
   "source": [
    "# your code here\n",
    "\n",
    "color_list"
   ]
  },
  {
   "cell_type": "code",
   "execution_count": null,
   "metadata": {
    "deletable": false,
    "editable": false,
    "nbgrader": {
     "cell_type": "code",
     "checksum": "493f89b8814c63702e3c344384e366ea",
     "grade": true,
     "grade_id": "cell-6e72a614ff936068",
     "locked": true,
     "points": 1,
     "schema_version": 3,
     "solution": false,
     "task": false
    }
   },
   "outputs": [],
   "source": [
    "# Q8 Test Cases\n",
    "assert type(color_list) == list"
   ]
  },
  {
   "cell_type": "markdown",
   "metadata": {
    "deletable": false,
    "editable": false,
    "nbgrader": {
     "cell_type": "markdown",
     "checksum": "7d1fe6429557a0796177c6ecab6e8648",
     "grade": false,
     "grade_id": "cell-5caa95345231ec35",
     "locked": true,
     "schema_version": 3,
     "solution": false,
     "task": false
    }
   },
   "source": [
    "#### Question 9: Lists II\n",
    "Access the first color of your `color_list`. Store it as the variable `first`."
   ]
  },
  {
   "cell_type": "code",
   "execution_count": null,
   "metadata": {
    "deletable": false,
    "nbgrader": {
     "cell_type": "code",
     "checksum": "7977e89b0ad9d597f15d92d436a1b309",
     "grade": false,
     "grade_id": "cell-7732ff56a84bb907",
     "locked": false,
     "schema_version": 3,
     "solution": true,
     "task": false
    }
   },
   "outputs": [],
   "source": [
    "# your code here\n",
    "\n",
    "first"
   ]
  },
  {
   "cell_type": "code",
   "execution_count": null,
   "metadata": {
    "deletable": false,
    "editable": false,
    "nbgrader": {
     "cell_type": "code",
     "checksum": "124a5ab2b9210de37167ba7c89760526",
     "grade": true,
     "grade_id": "cell-8516b05f5173c907",
     "locked": true,
     "points": 1,
     "schema_version": 3,
     "solution": false,
     "task": false
    }
   },
   "outputs": [],
   "source": [
    "# Q9 Test Cases\n",
    "assert type(first) == str"
   ]
  },
  {
   "cell_type": "markdown",
   "metadata": {
    "deletable": false,
    "editable": false,
    "nbgrader": {
     "cell_type": "markdown",
     "checksum": "7d9610c739a21c9264f2abe7f47eb3ab",
     "grade": false,
     "grade_id": "cell-beab7cf36b4324e5",
     "locked": true,
     "schema_version": 3,
     "solution": false,
     "task": false
    }
   },
   "source": [
    "#### Question 10: Lists III\n",
    "Access the last color of your `color_list`. Store it as the variable `last`."
   ]
  },
  {
   "cell_type": "code",
   "execution_count": null,
   "metadata": {
    "deletable": false,
    "nbgrader": {
     "cell_type": "code",
     "checksum": "1a9e5a170a6f2f2d17e2db36c6a65a09",
     "grade": false,
     "grade_id": "cell-72f8c5811ef60991",
     "locked": false,
     "schema_version": 3,
     "solution": true,
     "task": false
    }
   },
   "outputs": [],
   "source": [
    "# your code here\n",
    "\n",
    "last"
   ]
  },
  {
   "cell_type": "code",
   "execution_count": null,
   "metadata": {
    "deletable": false,
    "editable": false,
    "nbgrader": {
     "cell_type": "code",
     "checksum": "d0fbad8d3eba7d86cef78342107374a9",
     "grade": true,
     "grade_id": "cell-5b270e4755bb18a8",
     "locked": true,
     "points": 1,
     "schema_version": 3,
     "solution": false,
     "task": false
    }
   },
   "outputs": [],
   "source": [
    "# Q10 Test Cases\n",
    "assert type(last) == str"
   ]
  },
  {
   "cell_type": "markdown",
   "metadata": {
    "deletable": false,
    "editable": false,
    "nbgrader": {
     "cell_type": "markdown",
     "checksum": "fac8bbb272d191147484c3d508baf025",
     "grade": false,
     "grade_id": "cell-4166a5800d832bcc",
     "locked": true,
     "schema_version": 3,
     "solution": false,
     "task": false
    }
   },
   "source": [
    "#### Question 11: Lists IV\n",
    "Access the first 2 colors of your `color_list`. Store it as the variable `first_two`."
   ]
  },
  {
   "cell_type": "code",
   "execution_count": null,
   "metadata": {
    "deletable": false,
    "nbgrader": {
     "cell_type": "code",
     "checksum": "aeedff967a8792533f3d84166fedbf40",
     "grade": false,
     "grade_id": "cell-fdc024b7caecc40a",
     "locked": false,
     "schema_version": 3,
     "solution": true,
     "task": false
    }
   },
   "outputs": [],
   "source": [
    "# your code here\n",
    "\n",
    "first_two"
   ]
  },
  {
   "cell_type": "code",
   "execution_count": null,
   "metadata": {
    "deletable": false,
    "editable": false,
    "nbgrader": {
     "cell_type": "code",
     "checksum": "cc9d9c279ece7ac9324a3181ce7a8fa3",
     "grade": true,
     "grade_id": "cell-0cd6abb1240378a4",
     "locked": true,
     "points": 1,
     "schema_version": 3,
     "solution": false,
     "task": false
    }
   },
   "outputs": [],
   "source": [
    "# Q11 Test Cases\n",
    "assert type(first_two) == list\n",
    "assert len(first_two) == 2"
   ]
  },
  {
   "cell_type": "markdown",
   "metadata": {
    "deletable": false,
    "editable": false,
    "nbgrader": {
     "cell_type": "markdown",
     "checksum": "658d8ab72c0b0d6e049007223f788c91",
     "grade": false,
     "grade_id": "cell-2cb08cb4653b685e",
     "locked": true,
     "schema_version": 3,
     "solution": false,
     "task": false
    }
   },
   "source": [
    "#### Question 12: Lists V\n",
    "Access the last 2 colors of your `color_list`. Store it as the variable `last_two`."
   ]
  },
  {
   "cell_type": "code",
   "execution_count": null,
   "metadata": {
    "deletable": false,
    "nbgrader": {
     "cell_type": "code",
     "checksum": "98d246f449299a16f52c29bb59036a0c",
     "grade": false,
     "grade_id": "cell-f278c17eb74a1732",
     "locked": false,
     "schema_version": 3,
     "solution": true,
     "task": false
    }
   },
   "outputs": [],
   "source": [
    "# your code here\n",
    "\n",
    "last_two"
   ]
  },
  {
   "cell_type": "code",
   "execution_count": null,
   "metadata": {
    "deletable": false,
    "editable": false,
    "nbgrader": {
     "cell_type": "code",
     "checksum": "886edd0ca206aefce409ae9935860f6b",
     "grade": true,
     "grade_id": "cell-a891b0369a1612cd",
     "locked": true,
     "points": 1,
     "schema_version": 3,
     "solution": false,
     "task": false
    }
   },
   "outputs": [],
   "source": [
    "# Q12 Test Cases\n",
    "assert type(last_two) == list\n",
    "assert len(last_two) == 2"
   ]
  },
  {
   "cell_type": "markdown",
   "metadata": {
    "deletable": false,
    "editable": false,
    "nbgrader": {
     "cell_type": "markdown",
     "checksum": "303245116a957499d58d87b10c128cc0",
     "grade": false,
     "grade_id": "cell-192ddaa6652c550d",
     "locked": true,
     "schema_version": 3,
     "solution": false,
     "task": false
    }
   },
   "source": [
    "#### Question 13: Lists VI\n",
    "Change the second item of your to the color 'cyan'."
   ]
  },
  {
   "cell_type": "code",
   "execution_count": null,
   "metadata": {
    "deletable": false,
    "nbgrader": {
     "cell_type": "code",
     "checksum": "0ff480643c357bec5e81e09653d96977",
     "grade": false,
     "grade_id": "cell-49aaa791fc5d51b5",
     "locked": false,
     "schema_version": 3,
     "solution": true,
     "task": false
    }
   },
   "outputs": [],
   "source": [
    "# your code here\n",
    "\n",
    "color_list"
   ]
  },
  {
   "cell_type": "code",
   "execution_count": null,
   "metadata": {
    "deletable": false,
    "editable": false,
    "nbgrader": {
     "cell_type": "code",
     "checksum": "58f6497547424534b81bafb88d9655ca",
     "grade": true,
     "grade_id": "cell-f3614744785f71c0",
     "locked": true,
     "points": 1,
     "schema_version": 3,
     "solution": false,
     "task": false
    }
   },
   "outputs": [],
   "source": [
    "# Q13 Test Cases\n",
    "assert type(color_list) == list"
   ]
  },
  {
   "cell_type": "markdown",
   "metadata": {
    "deletable": false,
    "editable": false,
    "nbgrader": {
     "cell_type": "markdown",
     "checksum": "900798498100401103f2249aa287e8bb",
     "grade": false,
     "grade_id": "cell-eeef4d747d235130",
     "locked": true,
     "schema_version": 3,
     "solution": false,
     "task": false
    }
   },
   "source": [
    "#### Question 14: Lists VII\n",
    "Here is another `list`. Notice how there can be different types in the `list`! Access the first to the third item in the `random_list`. Store it as the variable `first_to_third`."
   ]
  },
  {
   "cell_type": "code",
   "execution_count": null,
   "metadata": {
    "deletable": false,
    "nbgrader": {
     "cell_type": "code",
     "checksum": "5bea4b51582716741a0cd38d3e68f25a",
     "grade": false,
     "grade_id": "cell-19f842f1d20fbaab",
     "locked": false,
     "schema_version": 3,
     "solution": true,
     "task": false
    }
   },
   "outputs": [],
   "source": [
    "random_list = ['Five', 9, False, 4, 3.14, -10, -1, 8, 4.0, -7]\n",
    "# your code here\n",
    "\n",
    "first_to_third"
   ]
  },
  {
   "cell_type": "code",
   "execution_count": null,
   "metadata": {
    "deletable": false,
    "editable": false,
    "nbgrader": {
     "cell_type": "code",
     "checksum": "07df970b6eeaf7ccdfd0199bee20e8bc",
     "grade": true,
     "grade_id": "cell-8be634109cd3518f",
     "locked": true,
     "points": 1,
     "schema_version": 3,
     "solution": false,
     "task": false
    }
   },
   "outputs": [],
   "source": [
    "# Q14 Test Cases\n",
    "assert type(first_to_third) == list\n",
    "assert len(first_to_third) == 3"
   ]
  },
  {
   "cell_type": "markdown",
   "metadata": {
    "deletable": false,
    "editable": false,
    "nbgrader": {
     "cell_type": "markdown",
     "checksum": "4750eda4021c996412b74fb0dbfe58e2",
     "grade": false,
     "grade_id": "cell-e59e9a7b01b20d9b",
     "locked": true,
     "schema_version": 3,
     "solution": false,
     "task": false
    }
   },
   "source": [
    "#### Question 15: Lists VIII\n",
    "Access the fifth item to the second to last item in `random_list`. Store it as the variable `second_to_last`."
   ]
  },
  {
   "cell_type": "code",
   "execution_count": null,
   "metadata": {
    "deletable": false,
    "nbgrader": {
     "cell_type": "code",
     "checksum": "abbdf9f5376e516d45c829b07811d9ad",
     "grade": false,
     "grade_id": "cell-0edfe19497391bf4",
     "locked": false,
     "schema_version": 3,
     "solution": true,
     "task": false
    }
   },
   "outputs": [],
   "source": [
    "# your code here\n",
    "\n",
    "second_to_last"
   ]
  },
  {
   "cell_type": "code",
   "execution_count": null,
   "metadata": {
    "deletable": false,
    "editable": false,
    "nbgrader": {
     "cell_type": "code",
     "checksum": "2478701c19f6d3a4666d2108b936f664",
     "grade": true,
     "grade_id": "cell-118580e9244e2ae9",
     "locked": true,
     "points": 1,
     "schema_version": 3,
     "solution": false,
     "task": false
    }
   },
   "outputs": [],
   "source": [
    "# Q15 Test Cases\n",
    "assert type(second_to_last) == list\n",
    "assert len(second_to_last) == 5"
   ]
  },
  {
   "cell_type": "markdown",
   "metadata": {
    "deletable": false,
    "editable": false,
    "nbgrader": {
     "cell_type": "markdown",
     "checksum": "788b63695a5a62f5a5c8c220eeb20b87",
     "grade": false,
     "grade_id": "cell-a10e16bcb0b8e0d9",
     "locked": true,
     "schema_version": 3,
     "solution": false,
     "task": false
    }
   },
   "source": [
    "#### Question 16: Lists IX\n",
    "We can show how many elements are in a `list` by using `len()`. Store the length of `random_list` as the variable `rand_len`."
   ]
  },
  {
   "cell_type": "code",
   "execution_count": null,
   "metadata": {
    "deletable": false,
    "nbgrader": {
     "cell_type": "code",
     "checksum": "3e43705964d53f58b83f27c9d4730b24",
     "grade": false,
     "grade_id": "cell-a72c1a51bd6cfe68",
     "locked": false,
     "schema_version": 3,
     "solution": true,
     "task": false
    }
   },
   "outputs": [],
   "source": [
    "# your code here\n",
    "\n",
    "rand_len"
   ]
  },
  {
   "cell_type": "code",
   "execution_count": null,
   "metadata": {
    "deletable": false,
    "editable": false,
    "nbgrader": {
     "cell_type": "code",
     "checksum": "868e4fcf6b7d2eee7ca5eed5658fe78b",
     "grade": true,
     "grade_id": "cell-50434ef3f05d9494",
     "locked": true,
     "points": 1,
     "schema_version": 3,
     "solution": false,
     "task": false
    }
   },
   "outputs": [],
   "source": [
    "# Q16 Test Cases\n",
    "assert type(rand_len) == int"
   ]
  },
  {
   "cell_type": "markdown",
   "metadata": {
    "deletable": false,
    "editable": false,
    "nbgrader": {
     "cell_type": "markdown",
     "checksum": "f3d07a175753b6caba66822e21388b98",
     "grade": false,
     "grade_id": "cell-9ea0d14f88439624",
     "locked": true,
     "schema_version": 3,
     "solution": false,
     "task": false
    }
   },
   "source": [
    "#### Question 17: Lists X\n",
    "Add a new number to the end of `random_list` using the `.append()` function."
   ]
  },
  {
   "cell_type": "code",
   "execution_count": null,
   "metadata": {
    "deletable": false,
    "nbgrader": {
     "cell_type": "code",
     "checksum": "51e56d9e71d8b8a8fd09ade0e8c1404a",
     "grade": false,
     "grade_id": "cell-ed22cebf97df8678",
     "locked": false,
     "schema_version": 3,
     "solution": true,
     "task": false
    }
   },
   "outputs": [],
   "source": [
    "# your code here\n"
   ]
  },
  {
   "cell_type": "code",
   "execution_count": null,
   "metadata": {
    "deletable": false,
    "editable": false,
    "nbgrader": {
     "cell_type": "code",
     "checksum": "03053b1f62832adc4510098b0e641e25",
     "grade": true,
     "grade_id": "cell-7a61103cf542d038",
     "locked": true,
     "points": 1,
     "schema_version": 3,
     "solution": false,
     "task": false
    }
   },
   "outputs": [],
   "source": [
    "# Q17 Test Cases\n",
    "assert type(random_list) == list"
   ]
  },
  {
   "cell_type": "markdown",
   "metadata": {
    "deletable": false,
    "editable": false,
    "nbgrader": {
     "cell_type": "markdown",
     "checksum": "de9433cd40613f4db6c93e011c8ace09",
     "grade": false,
     "grade_id": "cell-f6e0a51289b15e75",
     "locked": true,
     "schema_version": 3,
     "solution": false,
     "task": false
    }
   },
   "source": [
    "#### Question 18: Dictionaries I\n",
    "Consider the table below:\n",
    "\n",
    "| Name | Favorite Food |\n",
    "| ---- | ------------ |\n",
    "| Williams | Pizza |\n",
    "| Osaka | Salad |\n",
    "| Raducanu | Curry |\n",
    "| Fernandez | Poutine |\n",
    "\n",
    "Create a `dict` that takes in *Name* as the key and *Favorite Food* as the value. Store it as the variable `food_dict`."
   ]
  },
  {
   "cell_type": "code",
   "execution_count": null,
   "metadata": {
    "deletable": false,
    "nbgrader": {
     "cell_type": "code",
     "checksum": "4b358293c58da75136b82d7b8d7e27fa",
     "grade": false,
     "grade_id": "cell-6d408ba0a95d5c48",
     "locked": false,
     "schema_version": 3,
     "solution": true,
     "task": false
    }
   },
   "outputs": [],
   "source": [
    "# your code here\n",
    "\n",
    "food_dict"
   ]
  },
  {
   "cell_type": "code",
   "execution_count": null,
   "metadata": {
    "deletable": false,
    "editable": false,
    "nbgrader": {
     "cell_type": "code",
     "checksum": "2a6ac8178411ff7aa0c61f50ed6aa314",
     "grade": true,
     "grade_id": "cell-e17c01b211264ebc",
     "locked": true,
     "points": 1,
     "schema_version": 3,
     "solution": false,
     "task": false
    }
   },
   "outputs": [],
   "source": [
    "# Q18 Test Cases\n",
    "assert type(food_dict) == dict"
   ]
  },
  {
   "cell_type": "markdown",
   "metadata": {
    "deletable": false,
    "editable": false,
    "nbgrader": {
     "cell_type": "markdown",
     "checksum": "03e8d919345e454b4c87bffd89bb0385",
     "grade": false,
     "grade_id": "cell-518534ce2fed52c5",
     "locked": true,
     "schema_version": 3,
     "solution": false,
     "task": false
    }
   },
   "source": [
    "#### Question 19: Dictionaries II\n",
    "Add your name and your favorite food to the same `dict`."
   ]
  },
  {
   "cell_type": "code",
   "execution_count": null,
   "metadata": {
    "deletable": false,
    "nbgrader": {
     "cell_type": "code",
     "checksum": "d55cf16691afcd96ffea7726a01f70ea",
     "grade": false,
     "grade_id": "cell-69c71b8bd8a9b056",
     "locked": false,
     "schema_version": 3,
     "solution": true,
     "task": false
    }
   },
   "outputs": [],
   "source": [
    "# your code here\n"
   ]
  },
  {
   "cell_type": "code",
   "execution_count": null,
   "metadata": {
    "deletable": false,
    "editable": false,
    "nbgrader": {
     "cell_type": "code",
     "checksum": "36fd0a11ff883b24d189e4066ea89d36",
     "grade": true,
     "grade_id": "cell-dadd23c2544ff91a",
     "locked": true,
     "points": 1,
     "schema_version": 3,
     "solution": false,
     "task": false
    }
   },
   "outputs": [],
   "source": [
    "# Q19 Test Cases\n",
    "assert type(food_dict) == dict"
   ]
  },
  {
   "cell_type": "markdown",
   "metadata": {
    "deletable": false,
    "editable": false,
    "nbgrader": {
     "cell_type": "markdown",
     "checksum": "154ea909514ae04235658f5753f6e3dd",
     "grade": false,
     "grade_id": "cell-9bfe45b8d48a714f",
     "locked": true,
     "schema_version": 3,
     "solution": false,
     "task": false
    }
   },
   "source": [
    "#### Question 20: Dictionaries III\n",
    "Use the `.values()` method to get the values from `food_dict`. Store it as the variable `food_values`."
   ]
  },
  {
   "cell_type": "code",
   "execution_count": null,
   "metadata": {
    "deletable": false,
    "nbgrader": {
     "cell_type": "code",
     "checksum": "0f609c46f4f3ced578c406a140237a4d",
     "grade": false,
     "grade_id": "cell-f419c3109e6d54cc",
     "locked": false,
     "schema_version": 3,
     "solution": true,
     "task": false
    }
   },
   "outputs": [],
   "source": [
    "# your code here\n",
    "\n",
    "food_values"
   ]
  },
  {
   "cell_type": "code",
   "execution_count": null,
   "metadata": {
    "deletable": false,
    "editable": false,
    "nbgrader": {
     "cell_type": "code",
     "checksum": "43a8c01ada358d51df2b3c675afc109f",
     "grade": true,
     "grade_id": "cell-7df0d661d21de903",
     "locked": true,
     "points": 1,
     "schema_version": 3,
     "solution": false,
     "task": false
    }
   },
   "outputs": [],
   "source": [
    "# Q20 Test Cases\n"
   ]
  },
  {
   "cell_type": "markdown",
   "metadata": {
    "deletable": false,
    "editable": false,
    "nbgrader": {
     "cell_type": "markdown",
     "checksum": "1ff5e0a697935d509a76e46610b2cf6e",
     "grade": false,
     "grade_id": "cell-2d405bf96f98cae8",
     "locked": true,
     "schema_version": 3,
     "solution": false,
     "task": false
    }
   },
   "source": [
    "#### Question 21: Dictionaries IV\n",
    "Consider the table below:\n",
    "\n",
    "| int_num | str_num |\n",
    "| ---- | ------------ |\n",
    "| 0| zero |\n",
    "| 1 | one |\n",
    "| 2 | two |\n",
    "| 3 | three |\n",
    "\n",
    "Create a `dict` that takes in *integer* (int) as the key and *string* (str) as the value. Store it as the variable `num_mapper`. Notice that the keys are integer numbers, not strings, (e.g. `0`, `1`, ... and not `\"0\"`, `\"1\"`, ... ) and the values are strings (`'zero'`, `'one'`, ... )."
   ]
  },
  {
   "cell_type": "code",
   "execution_count": null,
   "metadata": {
    "deletable": false,
    "nbgrader": {
     "cell_type": "code",
     "checksum": "8a5d9e544edec89a6b48dca930267ced",
     "grade": false,
     "grade_id": "cell-4b56805caa6269c5",
     "locked": false,
     "schema_version": 3,
     "solution": true,
     "task": false
    }
   },
   "outputs": [],
   "source": [
    "# your code here\n",
    "\n",
    "num_mapper"
   ]
  },
  {
   "cell_type": "code",
   "execution_count": null,
   "metadata": {
    "deletable": false,
    "editable": false,
    "nbgrader": {
     "cell_type": "code",
     "checksum": "3769ebecb9dcb1907755cee5be0b8a1d",
     "grade": true,
     "grade_id": "cell-ecf0726e406a8860",
     "locked": true,
     "points": 1,
     "schema_version": 3,
     "solution": false,
     "task": false
    }
   },
   "outputs": [],
   "source": [
    "# Q21 Test Cases\n",
    "\n",
    "assert type(num_mapper) == dict"
   ]
  },
  {
   "cell_type": "markdown",
   "metadata": {
    "deletable": false,
    "editable": false,
    "nbgrader": {
     "cell_type": "markdown",
     "checksum": "9f9fbc6800df555cb93ee8c71befb8e1",
     "grade": false,
     "grade_id": "cell-848d7ca99c5c30cd",
     "locked": true,
     "schema_version": 3,
     "solution": false,
     "task": false
    }
   },
   "source": [
    "#### Question 22: Dictionaries IV\n",
    "Access the value associated with the key `0`. Store it as the variable `zero`."
   ]
  },
  {
   "cell_type": "code",
   "execution_count": null,
   "metadata": {
    "deletable": false,
    "nbgrader": {
     "cell_type": "code",
     "checksum": "05c46168d00f48d05a349a284df04a8c",
     "grade": false,
     "grade_id": "cell-5a083ceff9281d7b",
     "locked": false,
     "schema_version": 3,
     "solution": true,
     "task": false
    }
   },
   "outputs": [],
   "source": [
    "# your code here\n",
    "\n",
    "zero"
   ]
  },
  {
   "cell_type": "code",
   "execution_count": null,
   "metadata": {
    "deletable": false,
    "editable": false,
    "nbgrader": {
     "cell_type": "code",
     "checksum": "a021ba20de3099cef4510ebffd925f59",
     "grade": true,
     "grade_id": "cell-cb1c9f351ccad292",
     "locked": true,
     "points": 1,
     "schema_version": 3,
     "solution": false,
     "task": false
    }
   },
   "outputs": [],
   "source": [
    "# Q22 Test Cases\n",
    "\n",
    "assert type(zero) == str"
   ]
  }
 ],
 "metadata": {
  "kernelspec": {
   "display_name": "Python 3",
   "language": "python",
   "name": "python3"
  },
  "language_info": {
   "codemirror_mode": {
    "name": "ipython",
    "version": 3
   },
   "file_extension": ".py",
   "mimetype": "text/x-python",
   "name": "python",
   "nbconvert_exporter": "python",
   "pygments_lexer": "ipython3",
   "version": "3.7.6"
  }
 },
 "nbformat": 4,
 "nbformat_minor": 5
}
